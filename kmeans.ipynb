{
 "cells": [
  {
   "cell_type": "markdown",
   "metadata": {},
   "source": [
    "# K-Means Clustering"
   ]
  },
  {
   "cell_type": "markdown",
   "metadata": {},
   "source": [
    "### Import libraries"
   ]
  },
  {
   "cell_type": "code",
   "execution_count": 221,
   "metadata": {},
   "outputs": [],
   "source": [
    "import numpy as np\n",
    "import pandas as pd\n",
    "import matplotlib.pyplot as plt\n",
    "import random\n",
    "from sklearn.decomposition import PCA as sklearnPCA"
   ]
  },
  {
   "cell_type": "markdown",
   "metadata": {},
   "source": [
    "### Load the dataset"
   ]
  },
  {
   "cell_type": "code",
   "execution_count": 222,
   "metadata": {},
   "outputs": [
    {
     "data": {
      "text/html": [
       "<div>\n",
       "<style scoped>\n",
       "    .dataframe tbody tr th:only-of-type {\n",
       "        vertical-align: middle;\n",
       "    }\n",
       "\n",
       "    .dataframe tbody tr th {\n",
       "        vertical-align: top;\n",
       "    }\n",
       "\n",
       "    .dataframe thead th {\n",
       "        text-align: right;\n",
       "    }\n",
       "</style>\n",
       "<table border=\"1\" class=\"dataframe\">\n",
       "  <thead>\n",
       "    <tr style=\"text-align: right;\">\n",
       "      <th></th>\n",
       "      <th>Pregnancies</th>\n",
       "      <th>Glucose</th>\n",
       "      <th>BloodPressure</th>\n",
       "      <th>SkinThickness</th>\n",
       "      <th>Insulin</th>\n",
       "      <th>BMI</th>\n",
       "      <th>DiabetesPedigreeFunction</th>\n",
       "      <th>Age</th>\n",
       "      <th>Outcome</th>\n",
       "    </tr>\n",
       "  </thead>\n",
       "  <tbody>\n",
       "    <tr>\n",
       "      <th>0</th>\n",
       "      <td>6</td>\n",
       "      <td>148</td>\n",
       "      <td>72</td>\n",
       "      <td>35</td>\n",
       "      <td>0</td>\n",
       "      <td>33.6</td>\n",
       "      <td>0.627</td>\n",
       "      <td>50</td>\n",
       "      <td>1</td>\n",
       "    </tr>\n",
       "    <tr>\n",
       "      <th>1</th>\n",
       "      <td>1</td>\n",
       "      <td>85</td>\n",
       "      <td>66</td>\n",
       "      <td>29</td>\n",
       "      <td>0</td>\n",
       "      <td>26.6</td>\n",
       "      <td>0.351</td>\n",
       "      <td>31</td>\n",
       "      <td>0</td>\n",
       "    </tr>\n",
       "    <tr>\n",
       "      <th>2</th>\n",
       "      <td>8</td>\n",
       "      <td>183</td>\n",
       "      <td>64</td>\n",
       "      <td>0</td>\n",
       "      <td>0</td>\n",
       "      <td>23.3</td>\n",
       "      <td>0.672</td>\n",
       "      <td>32</td>\n",
       "      <td>1</td>\n",
       "    </tr>\n",
       "    <tr>\n",
       "      <th>3</th>\n",
       "      <td>1</td>\n",
       "      <td>89</td>\n",
       "      <td>66</td>\n",
       "      <td>23</td>\n",
       "      <td>94</td>\n",
       "      <td>28.1</td>\n",
       "      <td>0.167</td>\n",
       "      <td>21</td>\n",
       "      <td>0</td>\n",
       "    </tr>\n",
       "    <tr>\n",
       "      <th>4</th>\n",
       "      <td>0</td>\n",
       "      <td>137</td>\n",
       "      <td>40</td>\n",
       "      <td>35</td>\n",
       "      <td>168</td>\n",
       "      <td>43.1</td>\n",
       "      <td>2.288</td>\n",
       "      <td>33</td>\n",
       "      <td>1</td>\n",
       "    </tr>\n",
       "    <tr>\n",
       "      <th>...</th>\n",
       "      <td>...</td>\n",
       "      <td>...</td>\n",
       "      <td>...</td>\n",
       "      <td>...</td>\n",
       "      <td>...</td>\n",
       "      <td>...</td>\n",
       "      <td>...</td>\n",
       "      <td>...</td>\n",
       "      <td>...</td>\n",
       "    </tr>\n",
       "    <tr>\n",
       "      <th>763</th>\n",
       "      <td>10</td>\n",
       "      <td>101</td>\n",
       "      <td>76</td>\n",
       "      <td>48</td>\n",
       "      <td>180</td>\n",
       "      <td>32.9</td>\n",
       "      <td>0.171</td>\n",
       "      <td>63</td>\n",
       "      <td>0</td>\n",
       "    </tr>\n",
       "    <tr>\n",
       "      <th>764</th>\n",
       "      <td>2</td>\n",
       "      <td>122</td>\n",
       "      <td>70</td>\n",
       "      <td>27</td>\n",
       "      <td>0</td>\n",
       "      <td>36.8</td>\n",
       "      <td>0.340</td>\n",
       "      <td>27</td>\n",
       "      <td>0</td>\n",
       "    </tr>\n",
       "    <tr>\n",
       "      <th>765</th>\n",
       "      <td>5</td>\n",
       "      <td>121</td>\n",
       "      <td>72</td>\n",
       "      <td>23</td>\n",
       "      <td>112</td>\n",
       "      <td>26.2</td>\n",
       "      <td>0.245</td>\n",
       "      <td>30</td>\n",
       "      <td>0</td>\n",
       "    </tr>\n",
       "    <tr>\n",
       "      <th>766</th>\n",
       "      <td>1</td>\n",
       "      <td>126</td>\n",
       "      <td>60</td>\n",
       "      <td>0</td>\n",
       "      <td>0</td>\n",
       "      <td>30.1</td>\n",
       "      <td>0.349</td>\n",
       "      <td>47</td>\n",
       "      <td>1</td>\n",
       "    </tr>\n",
       "    <tr>\n",
       "      <th>767</th>\n",
       "      <td>1</td>\n",
       "      <td>93</td>\n",
       "      <td>70</td>\n",
       "      <td>31</td>\n",
       "      <td>0</td>\n",
       "      <td>30.4</td>\n",
       "      <td>0.315</td>\n",
       "      <td>23</td>\n",
       "      <td>0</td>\n",
       "    </tr>\n",
       "  </tbody>\n",
       "</table>\n",
       "<p>768 rows × 9 columns</p>\n",
       "</div>"
      ],
      "text/plain": [
       "     Pregnancies   Glucose   BloodPressure   SkinThickness   Insulin   BMI    \\\n",
       "0               6       148              72              35         0   33.6   \n",
       "1               1        85              66              29         0   26.6   \n",
       "2               8       183              64               0         0   23.3   \n",
       "3               1        89              66              23        94   28.1   \n",
       "4               0       137              40              35       168   43.1   \n",
       "..            ...       ...             ...             ...       ...    ...   \n",
       "763            10       101              76              48       180   32.9   \n",
       "764             2       122              70              27         0   36.8   \n",
       "765             5       121              72              23       112   26.2   \n",
       "766             1       126              60               0         0   30.1   \n",
       "767             1        93              70              31         0   30.4   \n",
       "\n",
       "     DiabetesPedigreeFunction   Age   Outcome  \n",
       "0                        0.627    50        1  \n",
       "1                        0.351    31        0  \n",
       "2                        0.672    32        1  \n",
       "3                        0.167    21        0  \n",
       "4                        2.288    33        1  \n",
       "..                         ...   ...      ...  \n",
       "763                      0.171    63        0  \n",
       "764                      0.340    27        0  \n",
       "765                      0.245    30        0  \n",
       "766                      0.349    47        1  \n",
       "767                      0.315    23        0  \n",
       "\n",
       "[768 rows x 9 columns]"
      ]
     },
     "execution_count": 222,
     "metadata": {},
     "output_type": "execute_result"
    }
   ],
   "source": [
    "df = pd.read_csv('./diabetes.csv')\n",
    "df"
   ]
  },
  {
   "cell_type": "markdown",
   "metadata": {},
   "source": [
    "### Class extraction"
   ]
  },
  {
   "cell_type": "code",
   "execution_count": 223,
   "metadata": {},
   "outputs": [],
   "source": [
    "y = df['Outcome']\n",
    "X = df[df.columns[:df.shape[1] - 1]]"
   ]
  },
  {
   "cell_type": "markdown",
   "metadata": {},
   "source": [
    "### Variables / Helper functions declarations"
   ]
  },
  {
   "cell_type": "code",
   "execution_count": 224,
   "metadata": {},
   "outputs": [],
   "source": [
    "K = 2\n",
    "MAX_ITERS = 100\n",
    "\n",
    "n_samples, n_features = X.shape\n",
    "centroids = np.zeros((K, n_features))\n",
    "\n",
    "def get_centroids(clusters):\n",
    "    new_centroids = np.zeros((K, n_features))\n",
    "    for cluster_idx, cluster in enumerate(clusters):\n",
    "        if len(cluster) == 0:\n",
    "            new_centroids[cluster_idx] = centroids[cluster_idx]\n",
    "            continue\n",
    "\n",
    "        for feature_idx in range(n_features):\n",
    "            rows = X.iloc[cluster]\n",
    "            feature_mean = np.mean(rows[X.columns[feature_idx]])\n",
    "            new_centroids[cluster_idx][feature_idx] = feature_mean\n",
    "\n",
    "    return new_centroids\n",
    "\n",
    "\n",
    "def create_clusters(centroids):\n",
    "    clusters = [[] for _ in range(K)]\n",
    "    for idx, sample in X.iterrows():\n",
    "        centroid_idx = closest_centroid(sample, centroids)\n",
    "        clusters[centroid_idx].append(idx)\n",
    "\n",
    "    return clusters\n",
    "\n",
    "\n",
    "def closest_centroid(sample, centroids):\n",
    "    distances = np.zeros((K, n_features))\n",
    "    for feat_idx, feature in enumerate(sample):\n",
    "        # distance for centroid of first cluster\n",
    "        distances[0][feat_idx] = centroids[0][feat_idx] - feature\n",
    "\n",
    "        # distance for centroid of second cluster\n",
    "        distances[1][feat_idx] = centroids[1][feat_idx] - feature\n",
    "\n",
    "    distance1 = abs(np.mean(distances[0]))\n",
    "    distance2 = abs(np.mean(distances[1]))\n",
    "\n",
    "    return 0 if distance1 <= distance2 else 1\n",
    "\n",
    "def is_converged(old, curr):\n",
    "    distances = [euclidean_distance(old[i], curr[i]) for i in range(K)]\n",
    "    return sum(distances) == 0\n",
    "\n",
    "def euclidean_distance(x1, x2):\n",
    "    return np.sqrt(np.sum((x1 - x2)**2))\n"
   ]
  },
  {
   "cell_type": "markdown",
   "metadata": {},
   "source": [
    "### Initialize centroids"
   ]
  },
  {
   "cell_type": "code",
   "execution_count": 225,
   "metadata": {},
   "outputs": [
    {
     "data": {
      "text/plain": [
       "array([[  7.82215433, 113.87615344,  47.00531149,  47.48821839,\n",
       "        296.79994532,  57.69049958,   1.16846017,  52.27386552],\n",
       "       [ 13.66625878, 134.96153721,  14.22064136,  13.4490231 ,\n",
       "        689.47695864,  20.75270475,   2.23038277,  63.03167051]])"
      ]
     },
     "execution_count": 225,
     "metadata": {},
     "output_type": "execute_result"
    }
   ],
   "source": [
    "for col_idx, column in enumerate(X.columns):\n",
    "    centroids[0][col_idx] = random.uniform(X[column].min(), X[column].max())\n",
    "    centroids[1][col_idx] = random.uniform(X[column].min(), X[column].max())\n",
    "\n",
    "centroids"
   ]
  },
  {
   "cell_type": "markdown",
   "metadata": {},
   "source": [
    "### Clustering"
   ]
  },
  {
   "cell_type": "code",
   "execution_count": 226,
   "metadata": {},
   "outputs": [],
   "source": [
    "clusters = [[] for _ in range(K)]\n",
    "\n",
    "for _ in range(MAX_ITERS):\n",
    "    # update clusters\n",
    "    clusters = create_clusters(centroids)\n",
    "\n",
    "    # update cluster centroids\n",
    "    old_centroids = centroids\n",
    "    centroids = get_centroids(clusters)\n",
    "\n",
    "    # check if clusters have changed\n",
    "    if is_converged(old_centroids, centroids):\n",
    "        break"
   ]
  },
  {
   "cell_type": "markdown",
   "metadata": {},
   "source": [
    "### Label clusters"
   ]
  },
  {
   "cell_type": "code",
   "execution_count": 227,
   "metadata": {},
   "outputs": [],
   "source": [
    "labels = np.empty(n_samples)\n",
    "for cluster_idx, cluster in enumerate(clusters):\n",
    "    for sample_idx in cluster:\n",
    "        labels[sample_idx] = cluster_idx"
   ]
  },
  {
   "cell_type": "markdown",
   "metadata": {},
   "source": [
    "### Plot clusters"
   ]
  },
  {
   "cell_type": "code",
   "execution_count": 228,
   "metadata": {},
   "outputs": [
    {
     "data": {
      "image/png": "[encoded data removed]",
      "text/plain": [
       "<Figure size 432x288 with 1 Axes>"
      ]
     },
     "metadata": {
      "needs_background": "light"
     },
     "output_type": "display_data"
    }
   ],
   "source": [
    "pca = sklearnPCA(n_components=2)\n",
    "\n",
    "for i, indexes in enumerate(clusters):\n",
    "    points = pca.fit_transform(X.iloc[indexes])\n",
    "    x, y = points[:, 0], points[:, 1]\n",
    "    plt.scatter(x, y, label=f\"Cluster {i}\")\n",
    "\n",
    "c_points = pca.fit_transform(centroids)\n",
    "c_x, c_y = c_points[:, 0], c_points[:, 1]\n",
    "plt.scatter(c_x, c_y, marker='X', color='black')\n",
    "\n",
    "plt.show()"
   ]
  },
  {
   "cell_type": "markdown",
   "metadata": {},
   "source": [
    "### Statistics"
   ]
  },
  {
   "cell_type": "code",
   "execution_count": 229,
   "metadata": {},
   "outputs": [
    {
     "name": "stdout",
     "output_type": "stream",
     "text": [
      "----- Stats -----\n",
      "\tCorrect Predictions (Qty, Pct): (519, 67.58%)\n",
      "\tIncorrect Predictions (Qty, Pct): (249, 32.42%)\n"
     ]
    }
   ],
   "source": [
    "TP = 0\n",
    "FP = 0\n",
    "TN = 0\n",
    "FN = 0\n",
    "\n",
    "for sample_idx, sample in X.iterrows():\n",
    "    row = df.iloc[sample_idx]\n",
    "    if sample_idx in clusters[1]:\n",
    "        if row['Outcome'] == 1:\n",
    "            TP += 1\n",
    "        else:\n",
    "            FP += 1\n",
    "    else:\n",
    "        if row['Outcome'] == 0:\n",
    "            TN += 1\n",
    "        else:\n",
    "            FN += 1\n",
    "\n",
    "total = TP + FP + TN + FN\n",
    "correct = TP + TN\n",
    "incorrect = FP + FN\n",
    "print('----- Stats -----')\n",
    "print(f'\\tCorrect Predictions (Qty, Pct): ({correct}, {round((correct / total) * 100, 2)}%)')\n",
    "print(f'\\tIncorrect Predictions (Qty, Pct): ({incorrect}, {round((incorrect / total) * 100, 2)}%)')\n"
   ]
  },
  {
   "cell_type": "markdown",
   "metadata": {},
   "source": [
    "### Conclusion\n",
    "\n",
    "Before performing the clustering, we could see that when plotting the dataset there wasn't much of a difference when it came to the two possible classifications for each entry.\n",
    "\n",
    "After the clustering, and analyzing the results, receiving a 67% of correct predictions is not as bad. We would need to add more information in order to improve the results of the classification."
   ]
  }
 ],
 "metadata": {
  "kernelspec": {
   "display_name": "Python 3.10.0 64-bit",
   "language": "python",
   "name": "python3"
  },
  "language_info": {
   "codemirror_mode": {
    "name": "ipython",
    "version": 3
   },
   "file_extension": ".py",
   "mimetype": "text/x-python",
   "name": "python",
   "nbconvert_exporter": "python",
   "pygments_lexer": "ipython3",
   "version": "3.10.0"
  },
  "orig_nbformat": 4,
  "vscode": {
   "interpreter": {
    "hash": "e144bd872dea5808a82fc670aebf110fde980edf8678f9bda6d8daf26b6560b1"
   }
  }
 },
 "nbformat": 4,
 "nbformat_minor": 2
}
